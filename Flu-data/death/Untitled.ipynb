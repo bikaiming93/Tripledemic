{
 "cells": [
  {
   "cell_type": "code",
   "execution_count": 1,
   "id": "60926449",
   "metadata": {},
   "outputs": [],
   "source": [
    "import pandas as pd\n",
    "import numpy as np\n",
    "import matplotlib.pyplot as plt"
   ]
  },
  {
   "cell_type": "code",
   "execution_count": 3,
   "id": "3a8969c1",
   "metadata": {},
   "outputs": [],
   "source": [
    "a=pd.read_excel('weekly_deaths.xlsx', index_col=0) "
   ]
  },
  {
   "cell_type": "code",
   "execution_count": 8,
   "id": "9c41964f",
   "metadata": {},
   "outputs": [],
   "source": [
    "week_death=a['week_deaths']"
   ]
  },
  {
   "cell_type": "code",
   "execution_count": 11,
   "id": "0509ca1d",
   "metadata": {},
   "outputs": [
    {
     "data": {
      "text/plain": [
       "23"
      ]
     },
     "execution_count": 11,
     "metadata": {},
     "output_type": "execute_result"
    }
   ],
   "source": [
    "week_death[7]"
   ]
  },
  {
   "cell_type": "code",
   "execution_count": 15,
   "id": "da42a7a7",
   "metadata": {},
   "outputs": [],
   "source": [
    "data_date3 = pd.read_excel('date-fit.xlsx')\n",
    "date_series = data_date3['date'].squeeze()\n",
    "date_series_str = date_series.dt.strftime('%Y/%m/%d')"
   ]
  },
  {
   "cell_type": "code",
   "execution_count": 17,
   "id": "d6ebd416",
   "metadata": {},
   "outputs": [],
   "source": [
    "i=0\n",
    "fit_data = pd.DataFrame(columns = ['date', 'death'])\n",
    "for date in date_series_str:\n",
    "    \n",
    "    j=int(i/7)\n",
    "    day_death=week_death[j]/7\n",
    "    fit_data = fit_data.append({'date' : date,  'death' : day_death }, ignore_index = True)\n",
    "    i=i+1"
   ]
  },
  {
   "cell_type": "code",
   "execution_count": 18,
   "id": "12dfc6d6",
   "metadata": {},
   "outputs": [
    {
     "data": {
      "text/html": [
       "<div>\n",
       "<style scoped>\n",
       "    .dataframe tbody tr th:only-of-type {\n",
       "        vertical-align: middle;\n",
       "    }\n",
       "\n",
       "    .dataframe tbody tr th {\n",
       "        vertical-align: top;\n",
       "    }\n",
       "\n",
       "    .dataframe thead th {\n",
       "        text-align: right;\n",
       "    }\n",
       "</style>\n",
       "<table border=\"1\" class=\"dataframe\">\n",
       "  <thead>\n",
       "    <tr style=\"text-align: right;\">\n",
       "      <th></th>\n",
       "      <th>date</th>\n",
       "      <th>death</th>\n",
       "    </tr>\n",
       "  </thead>\n",
       "  <tbody>\n",
       "    <tr>\n",
       "      <th>0</th>\n",
       "      <td>2022/08/08</td>\n",
       "      <td>2.142857</td>\n",
       "    </tr>\n",
       "    <tr>\n",
       "      <th>1</th>\n",
       "      <td>2022/08/09</td>\n",
       "      <td>2.142857</td>\n",
       "    </tr>\n",
       "    <tr>\n",
       "      <th>2</th>\n",
       "      <td>2022/08/10</td>\n",
       "      <td>2.142857</td>\n",
       "    </tr>\n",
       "    <tr>\n",
       "      <th>3</th>\n",
       "      <td>2022/08/11</td>\n",
       "      <td>2.142857</td>\n",
       "    </tr>\n",
       "    <tr>\n",
       "      <th>4</th>\n",
       "      <td>2022/08/12</td>\n",
       "      <td>2.142857</td>\n",
       "    </tr>\n",
       "    <tr>\n",
       "      <th>...</th>\n",
       "      <td>...</td>\n",
       "      <td>...</td>\n",
       "    </tr>\n",
       "    <tr>\n",
       "      <th>358</th>\n",
       "      <td>2023/08/01</td>\n",
       "      <td>1.714286</td>\n",
       "    </tr>\n",
       "    <tr>\n",
       "      <th>359</th>\n",
       "      <td>2023/08/02</td>\n",
       "      <td>1.714286</td>\n",
       "    </tr>\n",
       "    <tr>\n",
       "      <th>360</th>\n",
       "      <td>2023/08/03</td>\n",
       "      <td>1.714286</td>\n",
       "    </tr>\n",
       "    <tr>\n",
       "      <th>361</th>\n",
       "      <td>2023/08/04</td>\n",
       "      <td>1.714286</td>\n",
       "    </tr>\n",
       "    <tr>\n",
       "      <th>362</th>\n",
       "      <td>2023/08/05</td>\n",
       "      <td>1.714286</td>\n",
       "    </tr>\n",
       "  </tbody>\n",
       "</table>\n",
       "<p>363 rows × 2 columns</p>\n",
       "</div>"
      ],
      "text/plain": [
       "           date     death\n",
       "0    2022/08/08  2.142857\n",
       "1    2022/08/09  2.142857\n",
       "2    2022/08/10  2.142857\n",
       "3    2022/08/11  2.142857\n",
       "4    2022/08/12  2.142857\n",
       "..          ...       ...\n",
       "358  2023/08/01  1.714286\n",
       "359  2023/08/02  1.714286\n",
       "360  2023/08/03  1.714286\n",
       "361  2023/08/04  1.714286\n",
       "362  2023/08/05  1.714286\n",
       "\n",
       "[363 rows x 2 columns]"
      ]
     },
     "execution_count": 18,
     "metadata": {},
     "output_type": "execute_result"
    }
   ],
   "source": [
    "fit_data"
   ]
  },
  {
   "cell_type": "code",
   "execution_count": 19,
   "id": "2b6c9bcd",
   "metadata": {},
   "outputs": [],
   "source": [
    "fit_data.to_csv('death_data_us.csv')"
   ]
  },
  {
   "cell_type": "code",
   "execution_count": null,
   "id": "590347bc",
   "metadata": {},
   "outputs": [],
   "source": []
  }
 ],
 "metadata": {
  "kernelspec": {
   "display_name": "Python 3 (ipykernel)",
   "language": "python",
   "name": "python3"
  },
  "language_info": {
   "codemirror_mode": {
    "name": "ipython",
    "version": 3
   },
   "file_extension": ".py",
   "mimetype": "text/x-python",
   "name": "python",
   "nbconvert_exporter": "python",
   "pygments_lexer": "ipython3",
   "version": "3.9.7"
  }
 },
 "nbformat": 4,
 "nbformat_minor": 5
}
